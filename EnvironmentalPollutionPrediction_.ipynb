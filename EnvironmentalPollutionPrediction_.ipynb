{
  "nbformat": 4,
  "nbformat_minor": 0,
  "metadata": {
    "colab": {
      "provenance": []
    },
    "kernelspec": {
      "name": "python3",
      "display_name": "Python 3"
    },
    "language_info": {
      "name": "python"
    }
  },
  "cells": [
    {
      "cell_type": "code",
      "execution_count": 2,
      "metadata": {
        "colab": {
          "base_uri": "https://localhost:8080/",
          "height": 223
        },
        "id": "2fWVfZSqXBYq",
        "outputId": "83855c24-aca7-4c49-a869-a37172ed8908"
      },
      "outputs": [
        {
          "output_type": "stream",
          "name": "stdout",
          "text": [
            "Requirement already satisfied: pympler in /usr/local/lib/python3.10/dist-packages (1.1)\n"
          ]
        },
        {
          "output_type": "execute_result",
          "data": {
            "text/plain": [
              "   Temperature     CO  Population_Density  Industrial density  Vehicle count  \\\n",
              "0       14.627  0.345               0.146               0.787           2970   \n",
              "1       11.513  1.423               0.506               0.735           5560   \n",
              "2        7.947  1.076               0.578               0.773           8620   \n",
              "3       13.176  0.837               0.498               0.446           9520   \n",
              "4       11.751  0.305               0.120               0.613           3100   \n",
              "\n",
              "   Environmental Pollution Level  \n",
              "0                             25  \n",
              "1                             34  \n",
              "2                             37  \n",
              "3                             30  \n",
              "4                             20  "
            ],
            "text/html": [
              "\n",
              "  <div id=\"df-b1e0f447-c85c-40dd-9aaa-294fd678eeb4\" class=\"colab-df-container\">\n",
              "    <div>\n",
              "<style scoped>\n",
              "    .dataframe tbody tr th:only-of-type {\n",
              "        vertical-align: middle;\n",
              "    }\n",
              "\n",
              "    .dataframe tbody tr th {\n",
              "        vertical-align: top;\n",
              "    }\n",
              "\n",
              "    .dataframe thead th {\n",
              "        text-align: right;\n",
              "    }\n",
              "</style>\n",
              "<table border=\"1\" class=\"dataframe\">\n",
              "  <thead>\n",
              "    <tr style=\"text-align: right;\">\n",
              "      <th></th>\n",
              "      <th>Temperature</th>\n",
              "      <th>CO</th>\n",
              "      <th>Population_Density</th>\n",
              "      <th>Industrial density</th>\n",
              "      <th>Vehicle count</th>\n",
              "      <th>Environmental Pollution Level</th>\n",
              "    </tr>\n",
              "  </thead>\n",
              "  <tbody>\n",
              "    <tr>\n",
              "      <th>0</th>\n",
              "      <td>14.627</td>\n",
              "      <td>0.345</td>\n",
              "      <td>0.146</td>\n",
              "      <td>0.787</td>\n",
              "      <td>2970</td>\n",
              "      <td>25</td>\n",
              "    </tr>\n",
              "    <tr>\n",
              "      <th>1</th>\n",
              "      <td>11.513</td>\n",
              "      <td>1.423</td>\n",
              "      <td>0.506</td>\n",
              "      <td>0.735</td>\n",
              "      <td>5560</td>\n",
              "      <td>34</td>\n",
              "    </tr>\n",
              "    <tr>\n",
              "      <th>2</th>\n",
              "      <td>7.947</td>\n",
              "      <td>1.076</td>\n",
              "      <td>0.578</td>\n",
              "      <td>0.773</td>\n",
              "      <td>8620</td>\n",
              "      <td>37</td>\n",
              "    </tr>\n",
              "    <tr>\n",
              "      <th>3</th>\n",
              "      <td>13.176</td>\n",
              "      <td>0.837</td>\n",
              "      <td>0.498</td>\n",
              "      <td>0.446</td>\n",
              "      <td>9520</td>\n",
              "      <td>30</td>\n",
              "    </tr>\n",
              "    <tr>\n",
              "      <th>4</th>\n",
              "      <td>11.751</td>\n",
              "      <td>0.305</td>\n",
              "      <td>0.120</td>\n",
              "      <td>0.613</td>\n",
              "      <td>3100</td>\n",
              "      <td>20</td>\n",
              "    </tr>\n",
              "  </tbody>\n",
              "</table>\n",
              "</div>\n",
              "    <div class=\"colab-df-buttons\">\n",
              "\n",
              "  <div class=\"colab-df-container\">\n",
              "    <button class=\"colab-df-convert\" onclick=\"convertToInteractive('df-b1e0f447-c85c-40dd-9aaa-294fd678eeb4')\"\n",
              "            title=\"Convert this dataframe to an interactive table.\"\n",
              "            style=\"display:none;\">\n",
              "\n",
              "  <svg xmlns=\"http://www.w3.org/2000/svg\" height=\"24px\" viewBox=\"0 -960 960 960\">\n",
              "    <path d=\"M120-120v-720h720v720H120Zm60-500h600v-160H180v160Zm220 220h160v-160H400v160Zm0 220h160v-160H400v160ZM180-400h160v-160H180v160Zm440 0h160v-160H620v160ZM180-180h160v-160H180v160Zm440 0h160v-160H620v160Z\"/>\n",
              "  </svg>\n",
              "    </button>\n",
              "\n",
              "  <style>\n",
              "    .colab-df-container {\n",
              "      display:flex;\n",
              "      gap: 12px;\n",
              "    }\n",
              "\n",
              "    .colab-df-convert {\n",
              "      background-color: #E8F0FE;\n",
              "      border: none;\n",
              "      border-radius: 50%;\n",
              "      cursor: pointer;\n",
              "      display: none;\n",
              "      fill: #1967D2;\n",
              "      height: 32px;\n",
              "      padding: 0 0 0 0;\n",
              "      width: 32px;\n",
              "    }\n",
              "\n",
              "    .colab-df-convert:hover {\n",
              "      background-color: #E2EBFA;\n",
              "      box-shadow: 0px 1px 2px rgba(60, 64, 67, 0.3), 0px 1px 3px 1px rgba(60, 64, 67, 0.15);\n",
              "      fill: #174EA6;\n",
              "    }\n",
              "\n",
              "    .colab-df-buttons div {\n",
              "      margin-bottom: 4px;\n",
              "    }\n",
              "\n",
              "    [theme=dark] .colab-df-convert {\n",
              "      background-color: #3B4455;\n",
              "      fill: #D2E3FC;\n",
              "    }\n",
              "\n",
              "    [theme=dark] .colab-df-convert:hover {\n",
              "      background-color: #434B5C;\n",
              "      box-shadow: 0px 1px 3px 1px rgba(0, 0, 0, 0.15);\n",
              "      filter: drop-shadow(0px 1px 2px rgba(0, 0, 0, 0.3));\n",
              "      fill: #FFFFFF;\n",
              "    }\n",
              "  </style>\n",
              "\n",
              "    <script>\n",
              "      const buttonEl =\n",
              "        document.querySelector('#df-b1e0f447-c85c-40dd-9aaa-294fd678eeb4 button.colab-df-convert');\n",
              "      buttonEl.style.display =\n",
              "        google.colab.kernel.accessAllowed ? 'block' : 'none';\n",
              "\n",
              "      async function convertToInteractive(key) {\n",
              "        const element = document.querySelector('#df-b1e0f447-c85c-40dd-9aaa-294fd678eeb4');\n",
              "        const dataTable =\n",
              "          await google.colab.kernel.invokeFunction('convertToInteractive',\n",
              "                                                    [key], {});\n",
              "        if (!dataTable) return;\n",
              "\n",
              "        const docLinkHtml = 'Like what you see? Visit the ' +\n",
              "          '<a target=\"_blank\" href=https://colab.research.google.com/notebooks/data_table.ipynb>data table notebook</a>'\n",
              "          + ' to learn more about interactive tables.';\n",
              "        element.innerHTML = '';\n",
              "        dataTable['output_type'] = 'display_data';\n",
              "        await google.colab.output.renderOutput(dataTable, element);\n",
              "        const docLink = document.createElement('div');\n",
              "        docLink.innerHTML = docLinkHtml;\n",
              "        element.appendChild(docLink);\n",
              "      }\n",
              "    </script>\n",
              "  </div>\n",
              "\n",
              "\n",
              "<div id=\"df-30a03e31-7af3-4921-a7ab-c58c47a44f71\">\n",
              "  <button class=\"colab-df-quickchart\" onclick=\"quickchart('df-30a03e31-7af3-4921-a7ab-c58c47a44f71')\"\n",
              "            title=\"Suggest charts\"\n",
              "            style=\"display:none;\">\n",
              "\n",
              "<svg xmlns=\"http://www.w3.org/2000/svg\" height=\"24px\"viewBox=\"0 0 24 24\"\n",
              "     width=\"24px\">\n",
              "    <g>\n",
              "        <path d=\"M19 3H5c-1.1 0-2 .9-2 2v14c0 1.1.9 2 2 2h14c1.1 0 2-.9 2-2V5c0-1.1-.9-2-2-2zM9 17H7v-7h2v7zm4 0h-2V7h2v10zm4 0h-2v-4h2v4z\"/>\n",
              "    </g>\n",
              "</svg>\n",
              "  </button>\n",
              "\n",
              "<style>\n",
              "  .colab-df-quickchart {\n",
              "      --bg-color: #E8F0FE;\n",
              "      --fill-color: #1967D2;\n",
              "      --hover-bg-color: #E2EBFA;\n",
              "      --hover-fill-color: #174EA6;\n",
              "      --disabled-fill-color: #AAA;\n",
              "      --disabled-bg-color: #DDD;\n",
              "  }\n",
              "\n",
              "  [theme=dark] .colab-df-quickchart {\n",
              "      --bg-color: #3B4455;\n",
              "      --fill-color: #D2E3FC;\n",
              "      --hover-bg-color: #434B5C;\n",
              "      --hover-fill-color: #FFFFFF;\n",
              "      --disabled-bg-color: #3B4455;\n",
              "      --disabled-fill-color: #666;\n",
              "  }\n",
              "\n",
              "  .colab-df-quickchart {\n",
              "    background-color: var(--bg-color);\n",
              "    border: none;\n",
              "    border-radius: 50%;\n",
              "    cursor: pointer;\n",
              "    display: none;\n",
              "    fill: var(--fill-color);\n",
              "    height: 32px;\n",
              "    padding: 0;\n",
              "    width: 32px;\n",
              "  }\n",
              "\n",
              "  .colab-df-quickchart:hover {\n",
              "    background-color: var(--hover-bg-color);\n",
              "    box-shadow: 0 1px 2px rgba(60, 64, 67, 0.3), 0 1px 3px 1px rgba(60, 64, 67, 0.15);\n",
              "    fill: var(--button-hover-fill-color);\n",
              "  }\n",
              "\n",
              "  .colab-df-quickchart-complete:disabled,\n",
              "  .colab-df-quickchart-complete:disabled:hover {\n",
              "    background-color: var(--disabled-bg-color);\n",
              "    fill: var(--disabled-fill-color);\n",
              "    box-shadow: none;\n",
              "  }\n",
              "\n",
              "  .colab-df-spinner {\n",
              "    border: 2px solid var(--fill-color);\n",
              "    border-color: transparent;\n",
              "    border-bottom-color: var(--fill-color);\n",
              "    animation:\n",
              "      spin 1s steps(1) infinite;\n",
              "  }\n",
              "\n",
              "  @keyframes spin {\n",
              "    0% {\n",
              "      border-color: transparent;\n",
              "      border-bottom-color: var(--fill-color);\n",
              "      border-left-color: var(--fill-color);\n",
              "    }\n",
              "    20% {\n",
              "      border-color: transparent;\n",
              "      border-left-color: var(--fill-color);\n",
              "      border-top-color: var(--fill-color);\n",
              "    }\n",
              "    30% {\n",
              "      border-color: transparent;\n",
              "      border-left-color: var(--fill-color);\n",
              "      border-top-color: var(--fill-color);\n",
              "      border-right-color: var(--fill-color);\n",
              "    }\n",
              "    40% {\n",
              "      border-color: transparent;\n",
              "      border-right-color: var(--fill-color);\n",
              "      border-top-color: var(--fill-color);\n",
              "    }\n",
              "    60% {\n",
              "      border-color: transparent;\n",
              "      border-right-color: var(--fill-color);\n",
              "    }\n",
              "    80% {\n",
              "      border-color: transparent;\n",
              "      border-right-color: var(--fill-color);\n",
              "      border-bottom-color: var(--fill-color);\n",
              "    }\n",
              "    90% {\n",
              "      border-color: transparent;\n",
              "      border-bottom-color: var(--fill-color);\n",
              "    }\n",
              "  }\n",
              "</style>\n",
              "\n",
              "  <script>\n",
              "    async function quickchart(key) {\n",
              "      const quickchartButtonEl =\n",
              "        document.querySelector('#' + key + ' button');\n",
              "      quickchartButtonEl.disabled = true;  // To prevent multiple clicks.\n",
              "      quickchartButtonEl.classList.add('colab-df-spinner');\n",
              "      try {\n",
              "        const charts = await google.colab.kernel.invokeFunction(\n",
              "            'suggestCharts', [key], {});\n",
              "      } catch (error) {\n",
              "        console.error('Error during call to suggestCharts:', error);\n",
              "      }\n",
              "      quickchartButtonEl.classList.remove('colab-df-spinner');\n",
              "      quickchartButtonEl.classList.add('colab-df-quickchart-complete');\n",
              "    }\n",
              "    (() => {\n",
              "      let quickchartButtonEl =\n",
              "        document.querySelector('#df-30a03e31-7af3-4921-a7ab-c58c47a44f71 button');\n",
              "      quickchartButtonEl.style.display =\n",
              "        google.colab.kernel.accessAllowed ? 'block' : 'none';\n",
              "    })();\n",
              "  </script>\n",
              "</div>\n",
              "\n",
              "    </div>\n",
              "  </div>\n"
            ],
            "application/vnd.google.colaboratory.intrinsic+json": {
              "type": "dataframe",
              "variable_name": "df",
              "summary": "{\n  \"name\": \"df\",\n  \"rows\": 1200,\n  \"fields\": [\n    {\n      \"column\": \"Temperature\",\n      \"properties\": {\n        \"dtype\": \"number\",\n        \"std\": 5.93386710005919,\n        \"min\": 0.0,\n        \"max\": 40.0,\n        \"num_unique_values\": 1158,\n        \"samples\": [\n          11.367,\n          10.871,\n          6.169\n        ],\n        \"semantic_type\": \"\",\n        \"description\": \"\"\n      }\n    },\n    {\n      \"column\": \"CO\",\n      \"properties\": {\n        \"dtype\": \"number\",\n        \"std\": 0.5749087273874384,\n        \"min\": 0.0,\n        \"max\": 3.0,\n        \"num_unique_values\": 894,\n        \"samples\": [\n          2.806,\n          1.009,\n          0.687\n        ],\n        \"semantic_type\": \"\",\n        \"description\": \"\"\n      }\n    },\n    {\n      \"column\": \"Population_Density\",\n      \"properties\": {\n        \"dtype\": \"number\",\n        \"std\": 0.20222346377584655,\n        \"min\": -0.036,\n        \"max\": 1.021,\n        \"num_unique_values\": 615,\n        \"samples\": [\n          0.267,\n          0.081,\n          0.172\n        ],\n        \"semantic_type\": \"\",\n        \"description\": \"\"\n      }\n    },\n    {\n      \"column\": \"Industrial density\",\n      \"properties\": {\n        \"dtype\": \"number\",\n        \"std\": 0.21236409308962317,\n        \"min\": 0.003,\n        \"max\": 1.029,\n        \"num_unique_values\": 609,\n        \"samples\": [\n          0.203,\n          0.101,\n          0.596\n        ],\n        \"semantic_type\": \"\",\n        \"description\": \"\"\n      }\n    },\n    {\n      \"column\": \"Vehicle count\",\n      \"properties\": {\n        \"dtype\": \"number\",\n        \"std\": 2924,\n        \"min\": -440,\n        \"max\": 11300,\n        \"num_unique_values\": 703,\n        \"samples\": [\n          8640,\n          1820,\n          2260\n        ],\n        \"semantic_type\": \"\",\n        \"description\": \"\"\n      }\n    },\n    {\n      \"column\": \"Environmental Pollution Level\",\n      \"properties\": {\n        \"dtype\": \"number\",\n        \"std\": 10,\n        \"min\": 9,\n        \"max\": 82,\n        \"num_unique_values\": 58,\n        \"samples\": [\n          25,\n          39,\n          46\n        ],\n        \"semantic_type\": \"\",\n        \"description\": \"\"\n      }\n    }\n  ]\n}"
            }
          },
          "metadata": {},
          "execution_count": 2
        }
      ],
      "source": [
        "import pandas as pd\n",
        "import numpy as np\n",
        "from sklearn.model_selection import train_test_split\n",
        "from sklearn.preprocessing import StandardScaler, PolynomialFeatures\n",
        "from sklearn.linear_model import LinearRegression\n",
        "from sklearn.model_selection import GridSearchCV\n",
        "from sklearn.metrics import mean_squared_error, mean_absolute_error, r2_score\n",
        "from sklearn.ensemble import RandomForestRegressor\n",
        "import matplotlib.pyplot as plt\n",
        "import time\n",
        "!pip install pympler\n",
        "from pympler import asizeof\n",
        "import sys\n",
        "\n",
        "# Data Loading and Processing\n",
        "data = pd.read_csv(\"Dataset.csv\")\n",
        "df = pd.DataFrame(data)\n",
        "df.head()"
      ]
    },
    {
      "cell_type": "markdown",
      "source": [
        "In this part of code, we arranged the all libraries that we will need. Then, we load the dataset."
      ],
      "metadata": {
        "id": "x0cFliYv6PC0"
      }
    },
    {
      "cell_type": "code",
      "source": [
        "# Features and Target Value\n",
        "features = [\"Temperature\", \"CO\", \"Population_Density\", \"Industrial density\", \"Vehicle count\"]\n",
        "label = \"Environmental Pollution Level\"\n",
        "\n",
        "X = data[features]\n",
        "y = data[label]\n",
        "\n",
        "print(df.shape)"
      ],
      "metadata": {
        "id": "RpaFfFrAXbTS",
        "colab": {
          "base_uri": "https://localhost:8080/"
        },
        "outputId": "59b9a277-ef57-4434-977a-0e031920e9b4"
      },
      "execution_count": 3,
      "outputs": [
        {
          "output_type": "stream",
          "name": "stdout",
          "text": [
            "(1200, 6)\n"
          ]
        }
      ]
    },
    {
      "cell_type": "markdown",
      "source": [
        "We defined the feature and the label columns. We printed the shape of the dataset. We have 1200 records and 6 columns."
      ],
      "metadata": {
        "id": "8ZBufWDk7buZ"
      }
    },
    {
      "cell_type": "code",
      "source": [
        "# Check for missing data\n",
        "df.isnull().sum()\n",
        "\n",
        "# Selected interaction terms\n",
        "X['Population_Vehicle_Interaction'] = X['Population_Density'] * X['Vehicle count']\n",
        "X['CO_Industrial_Interaction'] = X['CO'] * X['Industrial density']\n",
        "\n",
        "# Update features\n",
        "features_with_interaction = features + ['Population_Vehicle_Interaction', 'CO_Industrial_Interaction']\n",
        "\n",
        "# Data Normalization\n",
        "scaler = StandardScaler()\n",
        "X_normalized = scaler.fit_transform(X)\n",
        "\n",
        "# Save normalized data to CSV\n",
        "pd.DataFrame(X_normalized).to_csv('normalized_data.csv', index=False)\n",
        "\n",
        "# Splitting the Dataset\n",
        "X_train, X_test, y_train, y_test = train_test_split(X, y, test_size=0.2, random_state=42)\n",
        "X_train.shape, X_test.shape, y_train.shape, y_test.shape\n",
        "\n",
        "print(X_train.shape, X_test.shape, y_train.shape, y_test.shape)\n",
        "print(X)\n",
        "print(X_normalized)"
      ],
      "metadata": {
        "id": "3dp9flr7X0vP",
        "colab": {
          "base_uri": "https://localhost:8080/"
        },
        "outputId": "2178c79b-ea54-4f3d-b467-4537da5071f6"
      },
      "execution_count": 7,
      "outputs": [
        {
          "output_type": "stream",
          "name": "stdout",
          "text": [
            "(960, 7) (240, 7) (960,) (240,)\n",
            "      Temperature     CO  Population_Density  Industrial density  \\\n",
            "0          14.627  0.345               0.146               0.787   \n",
            "1          11.513  1.423               0.506               0.735   \n",
            "2           7.947  1.076               0.578               0.773   \n",
            "3          13.176  0.837               0.498               0.446   \n",
            "4          11.751  0.305               0.120               0.613   \n",
            "...           ...    ...                 ...                 ...   \n",
            "1195       13.834  1.097               0.082               0.503   \n",
            "1196       16.016  0.692               0.390               0.578   \n",
            "1197       17.106  1.613               0.403               0.644   \n",
            "1198       13.678  1.069               0.320               0.448   \n",
            "1199       12.610  2.760               0.372               0.721   \n",
            "\n",
            "      Vehicle count  Population_Vehicle_Interaction  CO_Industrial_Interaction  \n",
            "0              2970                          433.62                   0.271515  \n",
            "1              5560                         2813.36                   1.045905  \n",
            "2              8620                         4982.36                   0.831748  \n",
            "3              9520                         4740.96                   0.373302  \n",
            "4              3100                          372.00                   0.186965  \n",
            "...             ...                             ...                        ...  \n",
            "1195           9220                          756.04                   0.551791  \n",
            "1196           7550                         2944.50                   0.399976  \n",
            "1197           8320                         3352.96                   1.038772  \n",
            "1198           8400                         2688.00                   0.478912  \n",
            "1199           6590                         2451.48                   1.989960  \n",
            "\n",
            "[1200 rows x 7 columns]\n",
            "[[ 0.05507502 -1.2006155  -1.30149183 ... -0.76695377 -0.99512349\n",
            "  -0.60151311]\n",
            " [-0.46992802  0.67524652  0.47945924 ...  0.11896643  0.38821792\n",
            "   1.34964541]\n",
            " [-1.07113575  0.07142081  0.83564945 ...  1.16565206  1.6490563\n",
            "   0.81005392]\n",
            " ...\n",
            " [ 0.47302061  1.00587155 -0.03009065 ...  1.06303582  0.70188707\n",
            "   1.33167305]\n",
            " [-0.10492109  0.05923989 -0.44069882 ...  1.09040015  0.31534623\n",
            "  -0.07895416]\n",
            " [-0.28497994  3.00180267 -0.18345033 ...  0.47128218  0.1778573\n",
            "   3.72829306]]\n"
          ]
        }
      ]
    },
    {
      "cell_type": "markdown",
      "source": [
        "In this part of the code we are preparing the data. Firstly we checked if we have missing values, we combined the features and make them one column. Secondly we normalized the data. Then we printed both of the steps and saw how the data changed after the operations."
      ],
      "metadata": {
        "id": "KPYiMKP6BNxu"
      }
    },
    {
      "cell_type": "code",
      "source": [
        "# Linear Regression Model\n",
        "start_time = time.time()\n",
        "\n",
        "# Fit the model\n",
        "linear_model = LinearRegression()\n",
        "linear_model.fit(X_train, y_train)\n",
        "\n",
        "# Prediction\n",
        "y_pred_lr = linear_model.predict(X_test)\n",
        "\n",
        "end_time = time.time()\n",
        "execution_time = end_time - start_time\n",
        "print(f\"Execution time: {execution_time:.4f} seconds\")\n",
        "\n",
        "# Performance Metrics\n",
        "mse_lr = mean_squared_error(y_test, y_pred_lr)\n",
        "mae_lr = mean_absolute_error(y_test, y_pred_lr)\n",
        "r2_lr = r2_score(y_test, y_pred_lr)\n",
        "\n",
        "print(\"\\nLinear Regression Performance:\")\n",
        "print(f\"Mean Squared Error (MSE): {mse_lr:.4f}\")\n",
        "print(f\"Mean Absolute Error (MAE): {mae_lr:.4f}\")\n",
        "print(f\"R² Score: {r2_lr:.4f}\")\n",
        "\n",
        "# Model Memory Usage\n",
        "model_memory_usage = asizeof.asizeof(linear_model)\n",
        "print(f\"Linear Regression Model Memory Usage: {model_memory_usage / (1024 ** 2):.4f} MB\")\n",
        "\n",
        "# Feature Importance\n",
        "feature_importance_lr = pd.DataFrame({\n",
        "    \"Feature\": features_with_interaction,  # Updated feature list with interaction terms\n",
        "    \"Coefficient\": linear_model.coef_\n",
        "})\n",
        "print(\"\\nLinear Regression - Feature Importance:\")\n",
        "print(feature_importance_lr)\n",
        "\n",
        "# Feature Importance Visualization\n",
        "plt.figure(figsize=(10, 6))\n",
        "plt.barh(feature_importance_lr[\"Feature\"], abs(feature_importance_lr[\"Coefficient\"]), color='skyblue')\n",
        "plt.xlabel(\"Absolute Coefficient Value\")\n",
        "plt.ylabel(\"Features\")\n",
        "plt.title(\"Linear Regression - Feature Importance\")\n",
        "plt.show()"
      ],
      "metadata": {
        "id": "FYx3cF4KX3tb",
        "colab": {
          "base_uri": "https://localhost:8080/",
          "height": 859
        },
        "outputId": "c5db8d51-ab79-4f07-8b92-976c66a0872e"
      },
      "execution_count": 5,
      "outputs": [
        {
          "output_type": "stream",
          "name": "stdout",
          "text": [
            "Execution time: 0.0262 seconds\n",
            "\n",
            "Linear Regression Performance:\n",
            "Mean Squared Error (MSE): 7.3200\n",
            "Mean Absolute Error (MAE): 1.8927\n",
            "R² Score: 0.9189\n",
            "Linear Regression Model Memory Usage: 0.0014 MB\n",
            "\n",
            "Linear Regression - Feature Importance:\n",
            "                          Feature  Coefficient\n",
            "0                     Temperature     0.762551\n",
            "1                              CO     4.604774\n",
            "2              Population_Density    22.302079\n",
            "3              Industrial density    14.699695\n",
            "4                   Vehicle count     0.000051\n",
            "5  Population_Vehicle_Interaction     0.000193\n",
            "6       CO_Industrial_Interaction    -1.071528\n"
          ]
        },
        {
          "output_type": "display_data",
          "data": {
            "text/plain": [
              "<Figure size 1000x600 with 1 Axes>"
            ],
            "image/png": "[encoded data removed]"
          },
          "metadata": {}
        }
      ]
    },
    {
      "cell_type": "markdown",
      "source": [
        "Our first algorithm is Linear Regression. We applied the algorithm and calculated the metrics, time and storage values. Also, we printed a feature importance graph to see how features affect the label.,"
      ],
      "metadata": {
        "id": "CE8nn9hnBp8c"
      }
    },
    {
      "cell_type": "code",
      "source": [
        "# Random Forest Regressor Model\n",
        "start_time = time.time()\n",
        "\n",
        "rf_model = RandomForestRegressor(\n",
        "    criterion='absolute_error',\n",
        "    random_state=42,\n",
        "    n_estimators=300,\n",
        "    max_depth=5,\n",
        "    min_samples_split=2,\n",
        "    min_samples_leaf=1\n",
        ")\n",
        "rf_model.fit(X_train, y_train)\n",
        "\n",
        "# Prediction\n",
        "y_pred_rf = rf_model.predict(X_test)\n",
        "\n",
        "end_time = time.time()\n",
        "execution_time = end_time - start_time\n",
        "print(f\"Execution time: {execution_time:.4f} seconds\")\n",
        "\n",
        "# Performance Metrics\n",
        "mse_rf = mean_squared_error(y_test, y_pred_rf)\n",
        "mae_rf = mean_absolute_error(y_test, y_pred_rf)\n",
        "r2_rf = r2_score(y_test, y_pred_rf)\n",
        "\n",
        "print(\"\\nRandom Forest Regressor Performance:\")\n",
        "print(f\"Mean Squared Error (MSE): {mse_rf:.4f}\")\n",
        "print(f\"Mean Absolute Error (MAE): {mae_rf:.4f}\")\n",
        "print(f\"R² Score: {r2_rf:.4f}\")\n",
        "\n",
        "# Model Memory Usage\n",
        "model_memory_usage_rf = asizeof.asizeof(rf_model)\n",
        "print(f\"Random Forest Model Memory Usage: {model_memory_usage_rf / (1024 ** 2):.4f} MB\")\n",
        "\n",
        "# Feature Importance\n",
        "feature_importance_rf = pd.DataFrame({\n",
        "    \"Feature\": features_with_interaction,  # Updated feature list with interaction terms\n",
        "    \"Importance\": rf_model.feature_importances_\n",
        "})\n",
        "\n",
        "print(\"\\nRandom Forest - Feature Importance:\")\n",
        "print(feature_importance_rf)\n",
        "\n",
        "# Feature Importance Visualization\n",
        "plt.figure(figsize=(10, 6))\n",
        "plt.barh(feature_importance_rf[\"Feature\"], feature_importance_rf[\"Importance\"], color='lightgreen')\n",
        "plt.xlabel(\"Feature Importance\")\n",
        "plt.ylabel(\"Features\")\n",
        "plt.title(\"Random Forest - Feature Importance\")\n",
        "plt.show()"
      ],
      "metadata": {
        "colab": {
          "base_uri": "https://localhost:8080/",
          "height": 859
        },
        "id": "Ix3N4iobcmj8",
        "outputId": "64484c61-cd6d-41f6-92af-89db3831c8cb"
      },
      "execution_count": 6,
      "outputs": [
        {
          "output_type": "stream",
          "name": "stdout",
          "text": [
            "Execution time: 7.4145 seconds\n",
            "\n",
            "Random Forest Regressor Performance:\n",
            "Mean Squared Error (MSE): 9.8593\n",
            "Mean Absolute Error (MAE): 2.3094\n",
            "R² Score: 0.8907\n",
            "Random Forest Model Memory Usage: 0.1248 MB\n",
            "\n",
            "Random Forest - Feature Importance:\n",
            "                          Feature  Importance\n",
            "0                     Temperature    0.439392\n",
            "1                              CO    0.127016\n",
            "2              Population_Density    0.241954\n",
            "3              Industrial density    0.028952\n",
            "4                   Vehicle count    0.001976\n",
            "5  Population_Vehicle_Interaction    0.006291\n",
            "6       CO_Industrial_Interaction    0.154419\n"
          ]
        },
        {
          "output_type": "display_data",
          "data": {
            "text/plain": [
              "<Figure size 1000x600 with 1 Axes>"
            ],
            "image/png": "[encoded data removed]"
          },
          "metadata": {}
        }
      ]
    },
    {
      "cell_type": "markdown",
      "source": [
        "The second algorithm is the Random Forest Regressor. We applied the algorithm and calculated metrics, time, and storage values. We printed graphs to see how features affect the label."
      ],
      "metadata": {
        "id": "oqw4EBsLCGiS"
      }
    },
    {
      "cell_type": "code",
      "source": [
        "# Performance Comparison\n",
        "print(\"\\nModel Performance Comparison:\")\n",
        "print(f\"Linear Regression - MSE: {mse_lr}, MAE: {mae_lr}, R2: {r2_lr}\")\n",
        "print(f\"Random Forest - MSE: {mse_rf}, MAE: {mae_rf}, R2: {r2_rf}\")"
      ],
      "metadata": {
        "id": "KxyYdFvGYCmm",
        "colab": {
          "base_uri": "https://localhost:8080/"
        },
        "outputId": "5131deff-01d8-40ce-b665-2491372fd2a5"
      },
      "execution_count": 51,
      "outputs": [
        {
          "output_type": "stream",
          "name": "stdout",
          "text": [
            "\n",
            "Model Performance Comparison:\n",
            "Linear Regression - MSE: 7.319976072706784, MAE: 1.8927394319595061, R2: 0.9188617020046957\n",
            "Random Forest - MSE: 9.859260613425926, MAE: 2.3093819444444446, R2: 0.8907149944590314\n"
          ]
        }
      ]
    },
    {
      "cell_type": "markdown",
      "source": [
        "Finally, we want to do a comparison between the algorithms. After we see the all metrics together, we can say that Linear Regression is more successful than Random Forest Algorithm for this problem and dataset."
      ],
      "metadata": {
        "id": "XLZ5ThPHCbB5"
      }
    },
    {
      "cell_type": "code",
      "source": [
        "# Visualization\n",
        "models = [\"Linear Regression\", \"Random Forest\"]\n",
        "mse_values = [mse_lr, mse_rf]\n",
        "mae_values = [mae_lr, mae_rf]\n",
        "r2_values = [r2_lr, r2_rf]\n",
        "\n",
        "plt.figure(figsize=(12, 6))\n",
        "plt.bar(models, mse_values, color='orange', alpha=0.7, label='MSE')\n",
        "plt.bar(models, mae_values, color='blue', alpha=0.7, label='MAE')\n",
        "plt.ylabel(\"Error\")\n",
        "plt.title(\"Model Error Comparison (MSE and MAE)\")\n",
        "plt.legend()\n",
        "plt.show()\n",
        "\n",
        "plt.figure(figsize=(8, 6))\n",
        "plt.bar(models, r2_values, color='purple')\n",
        "plt.ylabel(\"R2 Score\")\n",
        "plt.title(\"Model R2 Score Comparison\")\n",
        "plt.show()"
      ],
      "metadata": {
        "colab": {
          "base_uri": "https://localhost:8080/",
          "height": 1000
        },
        "id": "ZeGCuo_peHyI",
        "outputId": "78ec2ea0-13a9-4450-c1b3-acb9c1101310"
      },
      "execution_count": 52,
      "outputs": [
        {
          "output_type": "display_data",
          "data": {
            "text/plain": [
              "<Figure size 1200x600 with 1 Axes>"
            ],
            "image/png": "[encoded data removed]"
          },
          "metadata": {}
        },
        {
          "output_type": "display_data",
          "data": {
            "text/plain": [
              "<Figure size 800x600 with 1 Axes>"
            ],
            "image/png": "[encoded data removed]"
          },
          "metadata": {}
        }
      ]
    },
    {
      "cell_type": "markdown",
      "source": [
        "We visualize the outputs that we have to see the results."
      ],
      "metadata": {
        "id": "JFMDig9JC0MZ"
      }
    }
  ]
}